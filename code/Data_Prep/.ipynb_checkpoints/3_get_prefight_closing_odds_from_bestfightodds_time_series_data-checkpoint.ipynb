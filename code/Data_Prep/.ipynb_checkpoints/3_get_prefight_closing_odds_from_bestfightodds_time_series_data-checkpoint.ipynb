{
 "cells": [
  {
   "cell_type": "markdown",
   "metadata": {},
   "source": [
    "# Get Closing Odds From Odds Time Series"
   ]
  },
  {
   "cell_type": "markdown",
   "metadata": {},
   "source": [
    "Bestfightodds periodically scrapes the various betting sites and posts new odds only when they are updated. Because some betting sites off live betting whereas others don't, the final quoted odds accross sites might not be comparable. As such, I pull pre-fight closing odds as of 12 hours before the final time odds are posted for the UFC card/event by any site. This should closely approximate betting just before the fight (after weigh-ins)."
   ]
  },
  {
   "cell_type": "code",
   "execution_count": 27,
   "metadata": {},
   "outputs": [],
   "source": [
    "import pandas as pd\n",
    "import numpy as np\n",
    "import seaborn as sns\n",
    "import matplotlib.pyplot as plt\n",
    "import matplotlib as mpl\n",
    "pd.set_option('display.max_columns', 500)\n",
    "from zipfile import ZipFile\n",
    "from datetime import timedelta"
   ]
  },
  {
   "cell_type": "code",
   "execution_count": 28,
   "metadata": {},
   "outputs": [],
   "source": [
    "# load all odds\n",
    "zip_file = ZipFile('../../data/bestfightodds_data/straight_bets.zip')\n",
    "dfs = [pd.read_csv(zip_file.open(text_file.filename)) for text_file in zip_file.infolist() \n",
    "       if text_file.filename.endswith('.csv')]\n",
    "df = pd.concat(dfs)"
   ]
  },
  {
   "cell_type": "code",
   "execution_count": 29,
   "metadata": {},
   "outputs": [],
   "source": [
    "# merge card date onto the bets and filter to only card as of 2008 or later\n",
    "cards = pd.read_csv(\"../../data/bestfightodds_data/bestfightodds_urls.csv\")\n",
    "cards.rename(columns = {'Date':'Card_Date'}, inplace = True)\n",
    "df = pd.merge(cards[['Card_Date', 'fight_odds_url']], df, left_on = 'fight_odds_url', right_on = 'url', validate = \"1:m\")\n",
    "df['Card_Date'] = pd.to_datetime(df['Card_Date'] )\n",
    "df = df.loc[df.Card_Date.dt.year >= 2008, :]"
   ]
  },
  {
   "cell_type": "code",
   "execution_count": 32,
   "metadata": {},
   "outputs": [
    {
     "data": {
      "text/html": [
       "<div>\n",
       "<style scoped>\n",
       "    .dataframe tbody tr th:only-of-type {\n",
       "        vertical-align: middle;\n",
       "    }\n",
       "\n",
       "    .dataframe tbody tr th {\n",
       "        vertical-align: top;\n",
       "    }\n",
       "\n",
       "    .dataframe thead th {\n",
       "        text-align: right;\n",
       "    }\n",
       "</style>\n",
       "<table border=\"1\" class=\"dataframe\">\n",
       "  <thead>\n",
       "    <tr style=\"text-align: right;\">\n",
       "      <th></th>\n",
       "      <th>Card_Date</th>\n",
       "      <th>fight_odds_url</th>\n",
       "      <th>Bet</th>\n",
       "      <th>betsite</th>\n",
       "      <th>dates</th>\n",
       "      <th>odds</th>\n",
       "      <th>fighter1</th>\n",
       "      <th>fighter2</th>\n",
       "      <th>class</th>\n",
       "      <th>url</th>\n",
       "      <th>Date</th>\n",
       "      <th>odds_close_time</th>\n",
       "    </tr>\n",
       "  </thead>\n",
       "  <tbody>\n",
       "    <tr>\n",
       "      <td>0</td>\n",
       "      <td>2020-03-14</td>\n",
       "      <td>https://www.bestfightodds.com/events/ufc-on-es...</td>\n",
       "      <td>Charles Oliveira</td>\n",
       "      <td>5Dimes</td>\n",
       "      <td>1581348609000</td>\n",
       "      <td>-140</td>\n",
       "      <td>Charles Oliveira</td>\n",
       "      <td>Kevin Lee</td>\n",
       "      <td>even</td>\n",
       "      <td>https://www.bestfightodds.com/events/ufc-on-es...</td>\n",
       "      <td>2020-02-10 15:30:09</td>\n",
       "      <td>2020-03-14 12:18:09</td>\n",
       "    </tr>\n",
       "    <tr>\n",
       "      <td>1</td>\n",
       "      <td>2020-03-14</td>\n",
       "      <td>https://www.bestfightodds.com/events/ufc-on-es...</td>\n",
       "      <td>Charles Oliveira</td>\n",
       "      <td>5Dimes</td>\n",
       "      <td>1581348790000</td>\n",
       "      <td>-120</td>\n",
       "      <td>Charles Oliveira</td>\n",
       "      <td>Kevin Lee</td>\n",
       "      <td>even</td>\n",
       "      <td>https://www.bestfightodds.com/events/ufc-on-es...</td>\n",
       "      <td>2020-02-10 15:33:10</td>\n",
       "      <td>2020-03-14 12:18:09</td>\n",
       "    </tr>\n",
       "    <tr>\n",
       "      <td>2</td>\n",
       "      <td>2020-03-14</td>\n",
       "      <td>https://www.bestfightodds.com/events/ufc-on-es...</td>\n",
       "      <td>Charles Oliveira</td>\n",
       "      <td>5Dimes</td>\n",
       "      <td>1581351854000</td>\n",
       "      <td>100</td>\n",
       "      <td>Charles Oliveira</td>\n",
       "      <td>Kevin Lee</td>\n",
       "      <td>even</td>\n",
       "      <td>https://www.bestfightodds.com/events/ufc-on-es...</td>\n",
       "      <td>2020-02-10 16:24:14</td>\n",
       "      <td>2020-03-14 12:18:09</td>\n",
       "    </tr>\n",
       "    <tr>\n",
       "      <td>3</td>\n",
       "      <td>2020-03-14</td>\n",
       "      <td>https://www.bestfightodds.com/events/ufc-on-es...</td>\n",
       "      <td>Charles Oliveira</td>\n",
       "      <td>5Dimes</td>\n",
       "      <td>1581361215000</td>\n",
       "      <td>115</td>\n",
       "      <td>Charles Oliveira</td>\n",
       "      <td>Kevin Lee</td>\n",
       "      <td>even</td>\n",
       "      <td>https://www.bestfightodds.com/events/ufc-on-es...</td>\n",
       "      <td>2020-02-10 19:00:15</td>\n",
       "      <td>2020-03-14 12:18:09</td>\n",
       "    </tr>\n",
       "    <tr>\n",
       "      <td>4</td>\n",
       "      <td>2020-03-14</td>\n",
       "      <td>https://www.bestfightodds.com/events/ufc-on-es...</td>\n",
       "      <td>Charles Oliveira</td>\n",
       "      <td>5Dimes</td>\n",
       "      <td>1581361392000</td>\n",
       "      <td>120</td>\n",
       "      <td>Charles Oliveira</td>\n",
       "      <td>Kevin Lee</td>\n",
       "      <td>even</td>\n",
       "      <td>https://www.bestfightodds.com/events/ufc-on-es...</td>\n",
       "      <td>2020-02-10 19:03:12</td>\n",
       "      <td>2020-03-14 12:18:09</td>\n",
       "    </tr>\n",
       "  </tbody>\n",
       "</table>\n",
       "</div>"
      ],
      "text/plain": [
       "   Card_Date                                     fight_odds_url  \\\n",
       "0 2020-03-14  https://www.bestfightodds.com/events/ufc-on-es...   \n",
       "1 2020-03-14  https://www.bestfightodds.com/events/ufc-on-es...   \n",
       "2 2020-03-14  https://www.bestfightodds.com/events/ufc-on-es...   \n",
       "3 2020-03-14  https://www.bestfightodds.com/events/ufc-on-es...   \n",
       "4 2020-03-14  https://www.bestfightodds.com/events/ufc-on-es...   \n",
       "\n",
       "                Bet betsite          dates  odds          fighter1   fighter2  \\\n",
       "0  Charles Oliveira  5Dimes  1581348609000  -140  Charles Oliveira  Kevin Lee   \n",
       "1  Charles Oliveira  5Dimes  1581348790000  -120  Charles Oliveira  Kevin Lee   \n",
       "2  Charles Oliveira  5Dimes  1581351854000   100  Charles Oliveira  Kevin Lee   \n",
       "3  Charles Oliveira  5Dimes  1581361215000   115  Charles Oliveira  Kevin Lee   \n",
       "4  Charles Oliveira  5Dimes  1581361392000   120  Charles Oliveira  Kevin Lee   \n",
       "\n",
       "  class                                                url  \\\n",
       "0  even  https://www.bestfightodds.com/events/ufc-on-es...   \n",
       "1  even  https://www.bestfightodds.com/events/ufc-on-es...   \n",
       "2  even  https://www.bestfightodds.com/events/ufc-on-es...   \n",
       "3  even  https://www.bestfightodds.com/events/ufc-on-es...   \n",
       "4  even  https://www.bestfightodds.com/events/ufc-on-es...   \n",
       "\n",
       "                 Date     odds_close_time  \n",
       "0 2020-02-10 15:30:09 2020-03-14 12:18:09  \n",
       "1 2020-02-10 15:33:10 2020-03-14 12:18:09  \n",
       "2 2020-02-10 16:24:14 2020-03-14 12:18:09  \n",
       "3 2020-02-10 19:00:15 2020-03-14 12:18:09  \n",
       "4 2020-02-10 19:03:12 2020-03-14 12:18:09  "
      ]
     },
     "metadata": {},
     "output_type": "display_data"
    }
   ],
   "source": [
    "df['Date'] = pd.to_datetime(df['dates'], unit = 'ms')\n",
    "display(df.head())"
   ]
  },
  {
   "cell_type": "code",
   "execution_count": null,
   "metadata": {},
   "outputs": [],
   "source": [
    "# get time odds quotesd will be taken from. 12 hours before final odd quoted for a UFC card by any site\n",
    "df['odds_close_time'] = df.groupby('url')['Date'].transform(\"max\") - timedelta(hours = 12)\n",
    "\n",
    "# confirm all sites had odds quoted prior to this time and not too far behind it (to avoid weird anomalies where maybe \n",
    "#                                                                                 bets stopped being offered prior to the time)\n",
    "df['recent_odds_window']= df['odds_close_time'] - timedelta(days = 3)\n",
    "has_odds = df.groupby(['url', 'betsite', 'fighter1', 'fighter2', 'Bet']).apply(lambda x: ((x['Date'] <= x['odds_close_time']) &  \n",
    "                                                                    (x['Date'] >= x['recent_odds_window'])).any()\n",
    "                                                                   )"
   ]
  },
  {
   "cell_type": "code",
   "execution_count": null,
   "metadata": {},
   "outputs": [],
   "source": []
  }
 ],
 "metadata": {
  "kernelspec": {
   "display_name": "Python 3",
   "language": "python",
   "name": "python3"
  },
  "language_info": {
   "codemirror_mode": {
    "name": "ipython",
    "version": 3
   },
   "file_extension": ".py",
   "mimetype": "text/x-python",
   "name": "python",
   "nbconvert_exporter": "python",
   "pygments_lexer": "ipython3",
   "version": "3.7.4"
  }
 },
 "nbformat": 4,
 "nbformat_minor": 2
}
