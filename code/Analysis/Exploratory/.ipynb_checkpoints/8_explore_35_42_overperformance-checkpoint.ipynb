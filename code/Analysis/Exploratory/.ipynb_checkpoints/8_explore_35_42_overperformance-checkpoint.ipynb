{
 "cells": [
  {
   "cell_type": "code",
   "execution_count": 1,
   "metadata": {},
   "outputs": [],
   "source": [
    "import pandas as pd\n",
    "import numpy as np\n",
    "import seaborn as sns\n",
    "import matplotlib.pyplot as plt\n",
    "import matplotlib as mpl\n",
    "pd.set_option('display.max_columns', 500)\n",
    "from sklearn.linear_model import LinearRegression\n",
    "import statsmodels.api as sm\n",
    "import statsmodels.formula.api as smf\n",
    "import numpy.random\n",
    "import statsmodels.nonparametric\n",
    "import scipy.stats"
   ]
  },
  {
   "cell_type": "code",
   "execution_count": 8,
   "metadata": {},
   "outputs": [],
   "source": [
    "bets = pd.read_csv('../../../data/datasets_for_analysis/final_datasets/odds_w_outcomes.csv')\n",
    "bets['Card_Date'] = pd.to_datetime(bets['Card_Date'] )\n",
    "bets['year'] = bets['Card_Date'].dt.year"
   ]
  },
  {
   "cell_type": "code",
   "execution_count": 9,
   "metadata": {},
   "outputs": [],
   "source": [
    "# convert decimal odds to probabilities using the balanced book method\n",
    "betting_sites= ['5Dimes','BetDSI','BookMaker','SportBet','Bet365','Bovada', \n",
    "                'Sportsbook','William_H','Pinnacle','SportsInt','BetOnline','Intertops']\n",
    "\n",
    "for col in betting_sites:\n",
    "    bets[col+\"_prob\"] =  ((bets[col]**-1) - bets[col+\"_vig\"])/(1-bets[col+\"_vig\"]) \n",
    "\n",
    "bets[\"avg_prob\"] = bets[[col+\"_prob\" for col in betting_sites]].apply(\"mean\", axis = 1)"
   ]
  },
  {
   "cell_type": "code",
   "execution_count": 10,
   "metadata": {},
   "outputs": [
    {
     "data": {
      "text/plain": [
       "Prelim        1274\n",
       "Main Event     898\n",
       "Name: Card_Cleaned, dtype: int64"
      ]
     },
     "execution_count": 10,
     "metadata": {},
     "output_type": "execute_result"
    }
   ],
   "source": [
    "# look at 2013 - 2020 30% - 50% probability range\n",
    "bets_recent = bets[(bets.year >= 2013)& (bets.avg_prob >= .3) & (bets.avg_prob <= .5)].copy()\n",
    "bets_recent.Card_Cleaned.value_counts()"
   ]
  },
  {
   "cell_type": "code",
   "execution_count": 23,
   "metadata": {},
   "outputs": [
    {
     "data": {
      "text/html": [
       "<div>\n",
       "<style scoped>\n",
       "    .dataframe tbody tr th:only-of-type {\n",
       "        vertical-align: middle;\n",
       "    }\n",
       "\n",
       "    .dataframe tbody tr th {\n",
       "        vertical-align: top;\n",
       "    }\n",
       "\n",
       "    .dataframe thead th {\n",
       "        text-align: right;\n",
       "    }\n",
       "</style>\n",
       "<table border=\"1\" class=\"dataframe\">\n",
       "  <thead>\n",
       "    <tr style=\"text-align: right;\">\n",
       "      <th></th>\n",
       "      <th>diff_main</th>\n",
       "      <th>p_val_main</th>\n",
       "      <th>n_main</th>\n",
       "      <th>diff_prelim</th>\n",
       "      <th>p_val_prelim</th>\n",
       "      <th>n_prelim</th>\n",
       "      <th>n</th>\n",
       "    </tr>\n",
       "    <tr>\n",
       "      <th>avg_prob</th>\n",
       "      <th></th>\n",
       "      <th></th>\n",
       "      <th></th>\n",
       "      <th></th>\n",
       "      <th></th>\n",
       "      <th></th>\n",
       "      <th></th>\n",
       "    </tr>\n",
       "  </thead>\n",
       "  <tbody>\n",
       "    <tr>\n",
       "      <td>(0.3, 0.325]</td>\n",
       "      <td>0.047657</td>\n",
       "      <td>0.331401</td>\n",
       "      <td>100</td>\n",
       "      <td>-0.004650</td>\n",
       "      <td>1.000000</td>\n",
       "      <td>130</td>\n",
       "      <td>230</td>\n",
       "    </tr>\n",
       "    <tr>\n",
       "      <td>(0.325, 0.35000000000000003]</td>\n",
       "      <td>0.041720</td>\n",
       "      <td>0.342511</td>\n",
       "      <td>124</td>\n",
       "      <td>-0.040760</td>\n",
       "      <td>0.334184</td>\n",
       "      <td>145</td>\n",
       "      <td>269</td>\n",
       "    </tr>\n",
       "    <tr>\n",
       "      <td>(0.35000000000000003, 0.37500000000000006]</td>\n",
       "      <td>0.047315</td>\n",
       "      <td>0.349485</td>\n",
       "      <td>100</td>\n",
       "      <td>0.070649</td>\n",
       "      <td>0.074827</td>\n",
       "      <td>150</td>\n",
       "      <td>250</td>\n",
       "    </tr>\n",
       "    <tr>\n",
       "      <td>(0.37500000000000006, 0.4000000000000001]</td>\n",
       "      <td>0.095137</td>\n",
       "      <td>0.020568</td>\n",
       "      <td>143</td>\n",
       "      <td>0.034241</td>\n",
       "      <td>0.365212</td>\n",
       "      <td>185</td>\n",
       "      <td>328</td>\n",
       "    </tr>\n",
       "    <tr>\n",
       "      <td>(0.4000000000000001, 0.4250000000000001]</td>\n",
       "      <td>0.088351</td>\n",
       "      <td>0.041969</td>\n",
       "      <td>132</td>\n",
       "      <td>0.031594</td>\n",
       "      <td>0.411346</td>\n",
       "      <td>185</td>\n",
       "      <td>317</td>\n",
       "    </tr>\n",
       "    <tr>\n",
       "      <td>(0.4250000000000001, 0.4500000000000001]</td>\n",
       "      <td>0.126879</td>\n",
       "      <td>0.007091</td>\n",
       "      <td>119</td>\n",
       "      <td>-0.044842</td>\n",
       "      <td>0.266473</td>\n",
       "      <td>161</td>\n",
       "      <td>280</td>\n",
       "    </tr>\n",
       "    <tr>\n",
       "      <td>(0.4500000000000001, 0.47500000000000014]</td>\n",
       "      <td>0.006921</td>\n",
       "      <td>0.920309</td>\n",
       "      <td>100</td>\n",
       "      <td>-0.002040</td>\n",
       "      <td>1.000000</td>\n",
       "      <td>154</td>\n",
       "      <td>254</td>\n",
       "    </tr>\n",
       "  </tbody>\n",
       "</table>\n",
       "</div>"
      ],
      "text/plain": [
       "                                            diff_main  p_val_main  n_main  \\\n",
       "avg_prob                                                                    \n",
       "(0.3, 0.325]                                 0.047657    0.331401     100   \n",
       "(0.325, 0.35000000000000003]                 0.041720    0.342511     124   \n",
       "(0.35000000000000003, 0.37500000000000006]   0.047315    0.349485     100   \n",
       "(0.37500000000000006, 0.4000000000000001]    0.095137    0.020568     143   \n",
       "(0.4000000000000001, 0.4250000000000001]     0.088351    0.041969     132   \n",
       "(0.4250000000000001, 0.4500000000000001]     0.126879    0.007091     119   \n",
       "(0.4500000000000001, 0.47500000000000014]    0.006921    0.920309     100   \n",
       "\n",
       "                                            diff_prelim  p_val_prelim  \\\n",
       "avg_prob                                                                \n",
       "(0.3, 0.325]                                  -0.004650      1.000000   \n",
       "(0.325, 0.35000000000000003]                  -0.040760      0.334184   \n",
       "(0.35000000000000003, 0.37500000000000006]     0.070649      0.074827   \n",
       "(0.37500000000000006, 0.4000000000000001]      0.034241      0.365212   \n",
       "(0.4000000000000001, 0.4250000000000001]       0.031594      0.411346   \n",
       "(0.4250000000000001, 0.4500000000000001]      -0.044842      0.266473   \n",
       "(0.4500000000000001, 0.47500000000000014]     -0.002040      1.000000   \n",
       "\n",
       "                                            n_prelim    n  \n",
       "avg_prob                                                   \n",
       "(0.3, 0.325]                                     130  230  \n",
       "(0.325, 0.35000000000000003]                     145  269  \n",
       "(0.35000000000000003, 0.37500000000000006]       150  250  \n",
       "(0.37500000000000006, 0.4000000000000001]        185  328  \n",
       "(0.4000000000000001, 0.4250000000000001]         185  317  \n",
       "(0.4250000000000001, 0.4500000000000001]         161  280  \n",
       "(0.4500000000000001, 0.47500000000000014]        154  254  "
      ]
     },
     "metadata": {},
     "output_type": "display_data"
    }
   ],
   "source": [
    "bets_recent['bet_won_main'] = np.where(bets_recent.Card_Cleaned == 'Prelim', np.nan, bets_recent.bet_won)\n",
    "bets_recent['bet_won_prelim'] = np.where(bets_recent.Card_Cleaned == 'Prelim',  bets_recent.bet_won, np.nan)\n",
    "bins = np.arange(.3,.5, .025)\n",
    "divided = pd.IntervalIndex.from_tuples([(bins[i], bins[i+1]) for i in np.arange(len(bins) - 1)])\n",
    "consensus_group = pd.cut(bets_recent.avg_prob, divided)\n",
    "grouped = bets_recent.groupby(consensus_group)['bet_won_main', 'bet_won_prelim', 'avg_prob'].agg(avg_prob = ('avg_prob', 'mean'),\n",
    "                                                                   bet_won_main=('bet_won_main', 'mean'),\n",
    "                                                                   num_bet_won_main =  ('bet_won_main', 'sum'), \n",
    "                                                                    bet_won_prelim=('bet_won_prelim', 'mean'),\n",
    "                                                                   num_bet_won_prelim =  ('bet_won_prelim', 'sum'),\n",
    "                                                                      n_main = ('bet_won_main', 'count'),\n",
    "                                                                      n_prelim = ('bet_won_prelim', 'count'),\n",
    "                                                                      n = ('avg_prob','size')   \n",
    "                                                                                                )\n",
    "grouped['diff_main'] = grouped['bet_won_main'] - grouped['avg_prob']\n",
    "grouped['diff_prelim'] = grouped['bet_won_prelim'] - grouped['avg_prob']\n",
    "grouped['p_val_main'] = grouped.apply(lambda x: statsmodels.stats.proportion.binom_test(x.num_bet_won_main, x.n_main, x.avg_prob), axis = 1)\n",
    "grouped['p_val_prelim'] = grouped.apply(lambda x: statsmodels.stats.proportion.binom_test(x.num_bet_won_prelim, x.n_prelim, x.avg_prob), axis = 1)\n",
    "\n",
    "del grouped['num_bet_won_main'], grouped['num_bet_won_prelim']\n",
    "display(grouped[['diff_main', 'p_val_main', 'n_main', 'diff_prelim', 'p_val_prelim', 'n_prelim', 'n']])"
   ]
  },
  {
   "cell_type": "code",
   "execution_count": 27,
   "metadata": {},
   "outputs": [
    {
     "data": {
      "text/plain": [
       "<matplotlib.legend.Legend at 0x116765b5408>"
      ]
     },
     "execution_count": 27,
     "metadata": {},
     "output_type": "execute_result"
    },
    {
     "data": {
      "image/png": "[encoded data removed]",
      "text/plain": [
       "<Figure size 432x288 with 1 Axes>"
      ]
     },
     "metadata": {
      "needs_background": "light"
     },
     "output_type": "display_data"
    }
   ],
   "source": [
    "\n",
    "fig, ax = plt.subplots()\n",
    "sns.regplot('avg_prob', 'bet_won_main', data = bets_recent, \n",
    "            scatter = False, lowess = True, ax = ax, label = 'Lowess main')\n",
    "sns.regplot('avg_prob', 'bet_won_prelim', data = bets_recent, \n",
    "            scatter = False, lowess = True, ax = ax, label = 'Lowess prelim')\n",
    "x = np.linspace(.25, .55, 100)\n",
    "ax.plot(x, x, 'k--',label = '45 degree line')\n",
    "ax.set_xticks(np.arange(.25,.56,.01))\n",
    "ax.set_ylim(.25,.55)\n",
    "ax.set_xlim(.25,.55)\n",
    "ax.set_xticklabels([round(x,2) if i%5 == 0 else '' for i, x in enumerate(np.arange(.25,.56,.01))])\n",
    "ax.legend(loc='best')"
   ]
  },
  {
   "cell_type": "markdown",
   "metadata": {},
   "source": [
    "It looks like most of the overperformance is coming from fighters fighting on the main card. This might be a case of their opponents being overhyped. "
   ]
  }
 ],
 "metadata": {
  "kernelspec": {
   "display_name": "Python 3",
   "language": "python",
   "name": "python3"
  },
  "language_info": {
   "codemirror_mode": {
    "name": "ipython",
    "version": 3
   },
   "file_extension": ".py",
   "mimetype": "text/x-python",
   "name": "python",
   "nbconvert_exporter": "python",
   "pygments_lexer": "ipython3",
   "version": "3.7.4"
  }
 },
 "nbformat": 4,
 "nbformat_minor": 2
}
