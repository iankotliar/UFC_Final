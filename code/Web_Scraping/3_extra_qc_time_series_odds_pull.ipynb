{
 "cells": [
  {
   "cell_type": "code",
   "execution_count": 1,
   "metadata": {},
   "outputs": [],
   "source": [
    "import pandas as pd\n",
    "import numpy as np\n",
    "import seaborn as sns\n",
    "import matplotlib.pyplot as plt\n",
    "import matplotlib as mpl\n",
    "pd.set_option('display.max_columns', 500)\n",
    "from zipfile import ZipFile\n",
    "from datetime import timedelta\n",
    "import re\n",
    "import os"
   ]
  },
  {
   "cell_type": "code",
   "execution_count": 2,
   "metadata": {},
   "outputs": [],
   "source": [
    "# load all time series data\n",
    "zip_file = ZipFile('../../data/bestfightodds_data/straight_bets.zip')\n",
    "dfs = [pd.read_csv(zip_file.open(text_file.filename)) for text_file in zip_file.infolist() \n",
    "       if text_file.filename.endswith('.csv')]\n",
    "df = pd.concat(dfs, sort = False)\n",
    "df['Date'] = pd.to_datetime(df['dates'], unit = 'ms')\n",
    "del dfs\n",
    "\n",
    "# load closing odds data\n",
    "closing = pd.read_csv(\"../../data/bestfightodds_data/moneyline_data_at_close.csv\")\n",
    "closing.rename({'url':'fight_odds_url'}, inplace = True, axis = 1)\n",
    "# filter to straight bets only on cards after 2008\n",
    "closing['Card_Date'] = pd.to_datetime(closing['Card_Date'])\n",
    "closing = closing[(closing['bet_type'] == 'Ordinary')]"
   ]
  },
  {
   "cell_type": "code",
   "execution_count": 3,
   "metadata": {},
   "outputs": [],
   "source": [
    "# filter to final quote\n",
    "\n",
    "byval = ['fighter1', 'fighter2', 'url', 'Bet', 'betsite', 'Date']\n",
    "out = df.sort_values(byval).groupby(byval[0:-1]).nth(-1).reset_index()\n",
    "# pivot data \n",
    "\n",
    "keepcol = ['fighter1', 'fighter2', 'url',  'Bet']\n",
    "\n",
    "out = out[keepcol+['odds', 'betsite']].pivot_table(values = ['odds'], columns = ['betsite'], \n",
    "                    index = keepcol,\n",
    "                    aggfunc='first').reset_index()\n",
    "out.columns = [a if b == '' else b for (a, b) in out.columns] \n",
    "out.rename(columns = {'William\\xa0H.':'William_H', \n",
    "                     'SportsInt.':'SportsInt',\n",
    "                    'url':'fight_odds_url'}, inplace = True)\n"
   ]
  },
  {
   "cell_type": "code",
   "execution_count": 4,
   "metadata": {},
   "outputs": [
    {
     "name": "stdout",
     "output_type": "stream",
     "text": [
      "9730\n",
      "9730\n",
      "0\n",
      "431\n"
     ]
    }
   ],
   "source": [
    "print(closing.shape[0])\n",
    "cmp = pd.merge(closing, out,\n",
    "               how = 'inner',\n",
    "               on = ['fight_odds_url', 'fighter1', 'fighter2', 'Bet'], suffixes = ('_close', '_ts'))\n",
    "print(cmp.shape[0])\n",
    "betting_sites= ['5Dimes','BetDSI','BookMaker','SportBet','Bet365','Bovada', \n",
    "                'Sportsbook','William_H','Pinnacle','SportsInt','BetOnline','Intertops']\n",
    "for col in betting_sites:\n",
    "    cmp[col+'_close'] = np.where(cmp[col+'_close'] == -100.0, 100.0, cmp[col+'_close'])\n",
    "    cmp[col+'_ts'] = np.where(cmp[col+'_ts'] == -100.0, 100.0, cmp[col+'_ts'])\n",
    "    cmp[col+\"_cmp\"] = (cmp[col+'_close'] == cmp[col+\"_ts\"]) | (cmp[col+'_close'].isna() & cmp[col+\"_ts\"].isna())\n",
    "    \n",
    "cmp['all_good'] = cmp[[x+\"_cmp\" for x in betting_sites]].apply(lambda x: x.all(), axis = 1)\n",
    "cmp['url_all_good'] = cmp.groupby('fight_odds_url')['all_good'].transform(lambda x: x.all())\n",
    "good = cmp[cmp['url_all_good']].drop_duplicates(['fight_odds_url'])\n",
    "bad = cmp[~(cmp['url_all_good'])].drop_duplicates(['fight_odds_url'])\n",
    "print(bad.shape[0])\n",
    "print(good.shape[0])"
   ]
  }
 ],
 "metadata": {
  "kernelspec": {
   "display_name": "Python 3",
   "language": "python",
   "name": "python3"
  },
  "language_info": {
   "codemirror_mode": {
    "name": "ipython",
    "version": 3
   },
   "file_extension": ".py",
   "mimetype": "text/x-python",
   "name": "python",
   "nbconvert_exporter": "python",
   "pygments_lexer": "ipython3",
   "version": "3.7.4"
  }
 },
 "nbformat": 4,
 "nbformat_minor": 2
}
